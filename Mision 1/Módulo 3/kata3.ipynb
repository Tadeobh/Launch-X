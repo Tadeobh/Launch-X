{
 "cells": [
  {
   "cell_type": "markdown",
   "metadata": {},
   "source": [
    "## Ejercicio 1"
   ]
  },
  {
   "cell_type": "code",
   "execution_count": 1,
   "metadata": {},
   "outputs": [
    {
     "name": "stdout",
     "output_type": "stream",
     "text": [
      "CUIDADO! Asteroide acercandose a 49km/s.\n"
     ]
    }
   ],
   "source": [
    "vel_asteroide = 49\n",
    "\n",
    "if vel_asteroide > 25:\n",
    "    print(\"CUIDADO! Asteroide acercandose a \" + str(vel_asteroide) + \"km/s.\")\n",
    "\n",
    "else:\n",
    "    print(\"Asteroide acercandose a \" + str(vel_asteroide) + \"km/s. Sin peligro.\")"
   ]
  },
  {
   "cell_type": "markdown",
   "metadata": {},
   "source": [
    "## Ejercicio 2"
   ]
  },
  {
   "cell_type": "code",
   "execution_count": 2,
   "metadata": {},
   "outputs": [
    {
     "name": "stdout",
     "output_type": "stream",
     "text": [
      "No hay ningun asteroide visible.\n"
     ]
    }
   ],
   "source": [
    "vel_asteroide_2 = 19\n",
    "\n",
    "if vel_asteroide_2 > 20:\n",
    "    print(\"Mira hacia el cielo! Asteroide acercandose a \" + str(vel_asteroide_2) + \"km/s.\")\n",
    "\n",
    "elif vel_asteroide_2 == 20:\n",
    "    print(\"Mira hacia el cielo! Asteroide acercandose a 20km/s.\")\n",
    "\n",
    "else:\n",
    "    print(\"No hay ningun asteroide visible.\")"
   ]
  },
  {
   "cell_type": "markdown",
   "metadata": {},
   "source": [
    "## Ejercicio 3"
   ]
  },
  {
   "cell_type": "code",
   "execution_count": 3,
   "metadata": {},
   "outputs": [
    {
     "name": "stdout",
     "output_type": "stream",
     "text": [
      "Mira hacia el cielo! Asteroide acercandose a 33km/s.\n"
     ]
    }
   ],
   "source": [
    "vel_asteroide_3 = 33\n",
    "tamaño_asteroide = 25\n",
    "\n",
    "if tamaño_asteroide > 25 and vel_asteroide_3 > 25:\n",
    "    print(\"CUIDADO! Asteroide de \" + str(tamaño_asteroide) + \" metros acercandose a \" + str(vel_asteroide_3) + \"km/s.\")\n",
    "\n",
    "elif vel_asteroide_3 >= 20:\n",
    "    print(\"Mira hacia el cielo! Asteroide acercandose a \" + str(vel_asteroide_3) + \"km/s.\")\n",
    "\n",
    "else:\n",
    "    print(\"No hay ningun asteroide visible ni peligroso.\")"
   ]
  }
 ],
 "metadata": {
  "interpreter": {
   "hash": "aee8b7b246df8f9039afb4144a1f6fd8d2ca17a180786b69acc140d282b71a49"
  },
  "kernelspec": {
   "display_name": "Python 3.10.0 64-bit",
   "language": "python",
   "name": "python3"
  },
  "language_info": {
   "codemirror_mode": {
    "name": "ipython",
    "version": 3
   },
   "file_extension": ".py",
   "mimetype": "text/x-python",
   "name": "python",
   "nbconvert_exporter": "python",
   "pygments_lexer": "ipython3",
   "version": "3.10.0"
  },
  "orig_nbformat": 4
 },
 "nbformat": 4,
 "nbformat_minor": 2
}
