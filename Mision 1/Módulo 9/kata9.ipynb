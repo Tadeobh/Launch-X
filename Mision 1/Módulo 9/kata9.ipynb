{
 "cells": [
  {
   "cell_type": "markdown",
   "metadata": {},
   "source": [
    "## Ejercicio 1: Uso de funciones en Python"
   ]
  },
  {
   "cell_type": "code",
   "execution_count": 1,
   "metadata": {},
   "outputs": [],
   "source": [
    "# Función para leer 3 tanques de combustible y muestre el promedio\n",
    "def informe_tanques(tanque_1, tanque_2, tanque_3):\n",
    "    return f\"\"\"======================\n",
    "    Estado de los tanques\n",
    "    ======================\n",
    "    Tanque 1: {tanque_1}%\n",
    "    Tanque 2: {tanque_2}%\n",
    "    Tanque 3: {tanque_3}%\n",
    "    \n",
    "    Promedio: {(tanque_1+tanque_2+tanque_3)/3}\n",
    "    ======================\n",
    "    \"\"\""
   ]
  },
  {
   "cell_type": "code",
   "execution_count": 2,
   "metadata": {},
   "outputs": [
    {
     "name": "stdout",
     "output_type": "stream",
     "text": [
      "======================\n",
      "    Estado de los tanques\n",
      "    ======================\n",
      "    Tanque 1: 80%\n",
      "    Tanque 2: 85%\n",
      "    Tanque 3: 60%\n",
      "    \n",
      "    Promedio: 75.0\n",
      "    ======================\n",
      "    \n"
     ]
    }
   ],
   "source": [
    "# Llamamos a la función que genera el reporte print(funcion(tanque1, tanque2, tanque3))\n",
    "print(informe_tanques(80, 85, 60))"
   ]
  },
  {
   "cell_type": "code",
   "execution_count": 3,
   "metadata": {},
   "outputs": [],
   "source": [
    "# Función promedio\n",
    "def promedio_tanques(tanque_1, tanque_2, tanque_3):\n",
    "    return (tanque_1+tanque_2+tanque_3)/3"
   ]
  },
  {
   "cell_type": "code",
   "execution_count": 4,
   "metadata": {},
   "outputs": [],
   "source": [
    "# Actualiza la función\n",
    "def informe_tanques(tanque_1, tanque_2, tanque_3):\n",
    "    return f\"\"\"======================\n",
    "Estado de los tanques\n",
    "======================\n",
    "Tanque 1: {tanque_1}%\n",
    "Tanque 2: {tanque_2}%\n",
    "Tanque 3: {tanque_3}%\n",
    "    \n",
    "Promedio: {promedio_tanques(tanque_1,tanque_2,tanque_3)}%\n",
    "======================\n",
    "\"\"\""
   ]
  },
  {
   "cell_type": "code",
   "execution_count": 5,
   "metadata": {},
   "outputs": [
    {
     "name": "stdout",
     "output_type": "stream",
     "text": [
      "======================\n",
      "Estado de los tanques\n",
      "======================\n",
      "Tanque 1: 80%\n",
      "Tanque 2: 85%\n",
      "Tanque 3: 60%\n",
      "    \n",
      "Promedio: 75.0%\n",
      "======================\n",
      "\n"
     ]
    }
   ],
   "source": [
    "# Llamado a la función \"informe_tanques\" actualizada.\n",
    "print(informe_tanques(80, 85, 60))"
   ]
  },
  {
   "cell_type": "markdown",
   "metadata": {},
   "source": [
    "## Ejercicio 2: Trabajo con argumentos de palabra clave"
   ]
  },
  {
   "cell_type": "code",
   "execution_count": 6,
   "metadata": {},
   "outputs": [
    {
     "name": "stdout",
     "output_type": "stream",
     "text": [
      "==========================================\n",
      "Reporte de la misión a Marte\n",
      "==========================================\n",
      "Tiempo completo de viaje: 95min\n",
      "Combustible disponible: 35000\n",
      "==========================================\n",
      "\n"
     ]
    }
   ],
   "source": [
    "# Función con un informe preciso de la misión. Considera hora de prelanzamiento, tiempo de vuelo, destino, tanque externo y tanque interno\n",
    "def reporte_tanques(prelanzamiento, tiempo_vuelo, destino, tanque_ext, tanque_int):\n",
    "    return f\"\"\"==========================================\n",
    "Reporte de la misión a {destino}\n",
    "==========================================\n",
    "Tiempo completo de viaje: {prelanzamiento+tiempo_vuelo}min\n",
    "Combustible disponible: {tanque_ext+tanque_int}\n",
    "==========================================\n",
    "\"\"\"\n",
    "\n",
    "print(reporte_tanques(20, 75, 'Marte', 20000, 15000))"
   ]
  },
  {
   "cell_type": "code",
   "execution_count": 7,
   "metadata": {},
   "outputs": [
    {
     "name": "stdout",
     "output_type": "stream",
     "text": [
      "==========================================\n",
      "Reporte de la misión a Júpiter\n",
      "==========================================\n",
      "Tiempo completo de viaje: 235min\n",
      "Combustible disponible: 30000\n",
      "==========================================\n",
      "\n"
     ]
    }
   ],
   "source": [
    "# Escribe tu nueva función de reporte considerando lo anterior\n",
    "def reporte_tanques(destino, *minutos, **tanques):\n",
    "    return f\"\"\"==========================================\n",
    "Reporte de la misión a {destino}\n",
    "==========================================\n",
    "Tiempo completo de viaje: {sum(minutos)}min\n",
    "Combustible disponible: {sum(tanques.values())}\n",
    "==========================================\n",
    "\"\"\"\n",
    "\n",
    "print(reporte_tanques('Júpiter', 15, 25, 70, 15, 100, 10, principal=15000, secundario= 10000,reserva=5000))"
   ]
  },
  {
   "cell_type": "code",
   "execution_count": 8,
   "metadata": {},
   "outputs": [
    {
     "name": "stdout",
     "output_type": "stream",
     "text": [
      "==========================================\n",
      "Reporte de la misión a Júpiter\n",
      "==========================================\n",
      "Tiempo completo de viaje: 235min\n",
      "\n",
      "Tanques:\n",
      "principal - 15000\n",
      "secundario - 10000\n",
      "reserva - 5000\n",
      "==========================================\n"
     ]
    }
   ],
   "source": [
    "# Escribe tu nueva función\n",
    "def reporte_tanques(destino, *minutos, **tanques):\n",
    "    reporte = f\"\"\"==========================================\n",
    "Reporte de la misión a {destino}\n",
    "==========================================\n",
    "Tiempo completo de viaje: {sum(minutos)}min\n",
    "\n",
    "Tanques:\n",
    "\"\"\"\n",
    "\n",
    "    for tanque, combustible in tanques.items():\n",
    "        reporte += f\"{tanque} - {combustible}\\n\"\n",
    "    \n",
    "    return reporte + \"==========================================\"\n",
    "\n",
    "\n",
    "print(reporte_tanques('Júpiter', 15, 25, 70, 15, 100, 10, principal=15000, secundario= 10000,reserva=5000))"
   ]
  }
 ],
 "metadata": {
  "interpreter": {
   "hash": "aee8b7b246df8f9039afb4144a1f6fd8d2ca17a180786b69acc140d282b71a49"
  },
  "kernelspec": {
   "display_name": "Python 3.10.0 64-bit",
   "language": "python",
   "name": "python3"
  },
  "language_info": {
   "codemirror_mode": {
    "name": "ipython",
    "version": 3
   },
   "file_extension": ".py",
   "mimetype": "text/x-python",
   "name": "python",
   "nbconvert_exporter": "python",
   "pygments_lexer": "ipython3",
   "version": "3.10.0"
  },
  "orig_nbformat": 4
 },
 "nbformat": 4,
 "nbformat_minor": 2
}
